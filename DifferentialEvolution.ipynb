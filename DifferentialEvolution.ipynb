{
 "cells": [
  {
   "cell_type": "code",
   "execution_count": 1,
   "metadata": {
    "collapsed": true
   },
   "outputs": [],
   "source": [
    "import numpy as np\n",
    "from matplotlib import pyplot as plt\n",
    "%matplotlib inline\n",
    "import random"
   ]
  },
  {
   "cell_type": "code",
   "execution_count": 22,
   "metadata": {
    "collapsed": true
   },
   "outputs": [],
   "source": [
    "# Define some initial params\n",
    "# Dimensionality\n",
    "Dn = 20\n",
    "\n",
    "# Mutation probability\n",
    "CR = 0.5\n",
    "\n",
    "# Population size\n",
    "NP = 200\n",
    "\n",
    "# No. of iterations\n",
    "I = 100\n",
    "\n",
    "# Differential Weight\n",
    "F = 0.48"
   ]
  },
  {
   "cell_type": "code",
   "execution_count": 28,
   "metadata": {
    "collapsed": false
   },
   "outputs": [
    {
     "name": "stdout",
     "output_type": "stream",
     "text": [
      "[ 0.17871008  0.26721801  0.65812566  0.72025386  0.81739885  0.07463849\n",
      "  0.43782103  0.91645824  0.41815538  0.97528039  0.11776782  0.32116634\n",
      "  0.37482151  0.8377566   0.27985571  0.75367316  0.97173693  0.69804289\n",
      "  0.7397362   0.3227467 ]\n"
     ]
    }
   ],
   "source": [
    "r = np.random.random((Dn,))\n",
    "def f(x):\n",
    "    return ((x + r)**2).sum()\n",
    "\n",
    "print r"
   ]
  },
  {
   "cell_type": "code",
   "execution_count": 29,
   "metadata": {
    "collapsed": false
   },
   "outputs": [
    {
     "name": "stdout",
     "output_type": "stream",
     "text": [
      "200\n"
     ]
    }
   ],
   "source": [
    "# Generate population\n",
    "pop = []\n",
    "\n",
    "for ix in range(NP):\n",
    "    # generate a random vector\n",
    "    vec = np.random.uniform(-10, 10, (Dn,))\n",
    "    \n",
    "    # Add to population\n",
    "    pop.append(vec)\n",
    "\n",
    "print len(pop)"
   ]
  },
  {
   "cell_type": "code",
   "execution_count": 31,
   "metadata": {
    "collapsed": false
   },
   "outputs": [
    {
     "name": "stdout",
     "output_type": "stream",
     "text": [
      "Iteration: 0 | Best Value: 26.5465930691\n",
      "Iteration: 1 | Best Value: 25.9409732555\n",
      "Iteration: 2 | Best Value: 21.3792510742\n",
      "Iteration: 3 | Best Value: 19.72935823\n",
      "Iteration: 4 | Best Value: 26.7404632298\n",
      "Iteration: 5 | Best Value: 23.0071776759\n",
      "Iteration: 6 | Best Value: 27.3972675965\n",
      "Iteration: 7 | Best Value: 17.0525669466\n",
      "Iteration: 8 | Best Value: 19.8112403567\n",
      "Iteration: 9 | Best Value: 17.8943702182\n",
      "Iteration: 10 | Best Value: 17.9391075401\n",
      "Iteration: 11 | Best Value: 16.612853771\n",
      "Iteration: 12 | Best Value: 16.5975933951\n",
      "Iteration: 13 | Best Value: 17.4599142879\n",
      "Iteration: 14 | Best Value: 13.6971047893\n",
      "Iteration: 15 | Best Value: 16.6532507299\n",
      "Iteration: 16 | Best Value: 16.9711687745\n",
      "Iteration: 17 | Best Value: 18.2882590497\n",
      "Iteration: 18 | Best Value: 16.381883733\n",
      "Iteration: 19 | Best Value: 16.7714353598\n",
      "Iteration: 20 | Best Value: 16.6714402945\n",
      "Iteration: 21 | Best Value: 12.1719253806\n",
      "Iteration: 22 | Best Value: 11.5190584455\n",
      "Iteration: 23 | Best Value: 12.3254219529\n",
      "Iteration: 24 | Best Value: 11.8980832168\n",
      "Iteration: 25 | Best Value: 11.298190834\n",
      "Iteration: 26 | Best Value: 15.4562831185\n",
      "Iteration: 27 | Best Value: 12.6874883281\n",
      "Iteration: 28 | Best Value: 13.5001002485\n",
      "Iteration: 29 | Best Value: 13.6369026623\n",
      "Iteration: 30 | Best Value: 13.0372627033\n",
      "Iteration: 31 | Best Value: 11.2963683702\n",
      "Iteration: 32 | Best Value: 15.2264632214\n",
      "Iteration: 33 | Best Value: 12.4912173754\n",
      "Iteration: 34 | Best Value: 11.5672055676\n",
      "Iteration: 35 | Best Value: 15.7635514628\n",
      "Iteration: 36 | Best Value: 12.0146712358\n",
      "Iteration: 37 | Best Value: 11.7449316244\n",
      "Iteration: 38 | Best Value: 12.8676096053\n",
      "Iteration: 39 | Best Value: 13.3230346939\n",
      "Iteration: 40 | Best Value: 12.94279774\n",
      "Iteration: 41 | Best Value: 11.5519469766\n",
      "Iteration: 42 | Best Value: 12.8508627635\n",
      "Iteration: 43 | Best Value: 12.8128894158\n",
      "Iteration: 44 | Best Value: 11.3367795564\n",
      "Iteration: 45 | Best Value: 11.3273162878\n",
      "Iteration: 46 | Best Value: 11.296385762\n",
      "Iteration: 47 | Best Value: 11.5621763726\n",
      "Iteration: 48 | Best Value: 12.9012688367\n",
      "Iteration: 49 | Best Value: 9.19772489409\n",
      "Iteration: 50 | Best Value: 11.61986888\n",
      "Iteration: 51 | Best Value: 11.805286819\n",
      "Iteration: 52 | Best Value: 10.2234941259\n",
      "Iteration: 53 | Best Value: 8.63352579455\n",
      "Iteration: 54 | Best Value: 8.86682489716\n",
      "Iteration: 55 | Best Value: 8.53423138649\n",
      "Iteration: 56 | Best Value: 8.21497346159\n",
      "Iteration: 57 | Best Value: 8.74867629997\n",
      "Iteration: 58 | Best Value: 10.1679494542\n",
      "Iteration: 59 | Best Value: 9.89836459023\n",
      "Iteration: 60 | Best Value: 8.86252475074\n",
      "Iteration: 61 | Best Value: 8.21666881802\n",
      "Iteration: 62 | Best Value: 8.27997565659\n",
      "Iteration: 63 | Best Value: 9.96990982985\n",
      "Iteration: 64 | Best Value: 8.25327471071\n",
      "Iteration: 65 | Best Value: 8.62530883673\n",
      "Iteration: 66 | Best Value: 9.17787083458\n",
      "Iteration: 67 | Best Value: 8.22127205446\n",
      "Iteration: 68 | Best Value: 8.2840974278\n",
      "Iteration: 69 | Best Value: 8.25639654375\n",
      "Iteration: 70 | Best Value: 8.21485684416\n",
      "Iteration: 71 | Best Value: 8.20724247746\n",
      "Iteration: 72 | Best Value: 8.10404784982\n",
      "Iteration: 73 | Best Value: 7.29600940661\n",
      "Iteration: 74 | Best Value: 7.17847609841\n",
      "Iteration: 75 | Best Value: 7.62818176812\n",
      "Iteration: 76 | Best Value: 8.1024527144\n",
      "Iteration: 77 | Best Value: 7.30945307915\n",
      "Iteration: 78 | Best Value: 8.1224729654\n",
      "Iteration: 79 | Best Value: 7.39348491769\n",
      "Iteration: 80 | Best Value: 6.54725014513\n",
      "Iteration: 81 | Best Value: 6.13815769304\n",
      "Iteration: 82 | Best Value: 6.01656025667\n",
      "Iteration: 83 | Best Value: 7.59736732322\n",
      "Iteration: 84 | Best Value: 5.3962783741\n",
      "Iteration: 85 | Best Value: 9.48431530004\n",
      "Iteration: 86 | Best Value: 8.62487290969\n",
      "Iteration: 87 | Best Value: 5.01939615067\n",
      "Iteration: 88 | Best Value: 5.23189385231\n",
      "Iteration: 89 | Best Value: 6.55353650179\n",
      "Iteration: 90 | Best Value: 6.99736183209\n",
      "Iteration: 91 | Best Value: 6.18110563834\n",
      "Iteration: 92 | Best Value: 5.07389155064\n",
      "Iteration: 93 | Best Value: 7.92808882058\n",
      "Iteration: 94 | Best Value: 5.88428020514\n",
      "Iteration: 95 | Best Value: 3.93720425366\n",
      "Iteration: 96 | Best Value: 4.53667003901\n",
      "Iteration: 97 | Best Value: 4.1972386768\n",
      "Iteration: 98 | Best Value: 5.74285964158\n",
      "Iteration: 99 | Best Value: 4.4603769229\n"
     ]
    }
   ],
   "source": [
    "loss = []\n",
    "# Main DE loop\n",
    "for ix in range(I):\n",
    "    pop = sorted(pop, key=lambda z: f(z))\n",
    "    print \"Iteration: {0} | Best Value: {1}\".format(ix, f(pop[0]))\n",
    "    loss.append(f(pop[0]))\n",
    "    \n",
    "    # Leader point\n",
    "    X_l = pop[0]\n",
    "    \n",
    "    for px_index in range(NP):\n",
    "        px = pop[px_index]\n",
    "        \n",
    "        # pick a random point\n",
    "        a, b, c = random.sample(pop, 3)\n",
    "        \n",
    "        # generate linear combination\n",
    "        y = px + F*(X_l - c)\n",
    "        \n",
    "        # pick a random dimension\n",
    "        R = random.choice(range(Dn))\n",
    "        \n",
    "        # temporary vector\n",
    "        t = np.zeros(px.shape)\n",
    "        \n",
    "        for dx in range(Dn):\n",
    "            r = np.random.random()\n",
    "            if r < CR or dx == R:\n",
    "                t[dx] = y[dx]\n",
    "            else:\n",
    "                t[dx] = px[dx]\n",
    "        \n",
    "        # check if new point is better\n",
    "        if f(t) < f(px):\n",
    "            pop[px_index] = t\n",
    "        else:\n",
    "            pass"
   ]
  },
  {
   "cell_type": "code",
   "execution_count": 26,
   "metadata": {
    "collapsed": false
   },
   "outputs": [
    {
     "data": {
      "text/plain": [
       "[<matplotlib.lines.Line2D at 0x7ff08acaa310>]"
      ]
     },
     "execution_count": 26,
     "metadata": {},
     "output_type": "execute_result"
    },
    {
     "data": {
      "image/png": "[encoded data removed]",
      "text/plain": [
       "<matplotlib.figure.Figure at 0x7ff08ace7ad0>"
      ]
     },
     "metadata": {},
     "output_type": "display_data"
    }
   ],
   "source": [
    "plt. plot(loss)"
   ]
  }
 ],
 "metadata": {
  "kernelspec": {
   "display_name": "Python 2",
   "language": "python",
   "name": "python2"
  },
  "language_info": {
   "codemirror_mode": {
    "name": "ipython",
    "version": 2
   },
   "file_extension": ".py",
   "mimetype": "text/x-python",
   "name": "python",
   "nbconvert_exporter": "python",
   "pygments_lexer": "ipython2",
   "version": "2.7.12"
  }
 },
 "nbformat": 4,
 "nbformat_minor": 2
}
